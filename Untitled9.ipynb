{
  "nbformat": 4,
  "nbformat_minor": 0,
  "metadata": {
    "colab": {
      "provenance": [],
      "authorship_tag": "ABX9TyPXfqWcXMYNZ1n2n/Nl50kt",
      "include_colab_link": true
    },
    "kernelspec": {
      "name": "python3",
      "display_name": "Python 3"
    },
    "language_info": {
      "name": "python"
    }
  },
  "cells": [
    {
      "cell_type": "markdown",
      "metadata": {
        "id": "view-in-github",
        "colab_type": "text"
      },
      "source": [
        "<a href=\"https://colab.research.google.com/github/gps23/3D-CGAN-master/blob/main/Untitled9.ipynb\" target=\"_parent\"><img src=\"https://colab.research.google.com/assets/colab-badge.svg\" alt=\"Open In Colab\"/></a>"
      ]
    },
    {
      "cell_type": "code",
      "execution_count": null,
      "metadata": {
        "id": "0jfTNzN5pKas"
      },
      "outputs": [],
      "source": [
        "import zipfile\n",
        "\n",
        "with zipfile.ZipFile('3D-CGAN-master.zip', 'r') as zip_ref:\n",
        "    zip_ref.extractall('./data')\n"
      ]
    },
    {
      "cell_type": "code",
      "source": [],
      "metadata": {
        "id": "vBl4O4-lMT9m"
      },
      "execution_count": null,
      "outputs": []
    },
    {
      "cell_type": "code",
      "source": [
        "import zipfile\n",
        "import os\n",
        "\n",
        "# Update path to the zip file if it's in a different location\n",
        "# If the file is in the current directory:\n",
        "zip_file_path = '3D-CGAN-master.zip'\n",
        "# If the file is in a different directory, provide the full path\n",
        "# For example: zip_file_path = '/path/to/your/3D-CGAN-master.zip'\n",
        "extracted_folder_path = './data/3D-CGAN-master/' # Updated extraction path\n",
        "\n",
        "# Extract the zip file\n",
        "with zipfile.ZipFile(zip_file_path, 'r') as zip_ref:\n",
        "    zip_ref.extractall(extracted_folder_path)\n",
        "\n",
        "# Verify extraction\n",
        "print(os.listdir(extracted_folder_path))\n"
      ],
      "metadata": {
        "colab": {
          "base_uri": "https://localhost:8080/"
        },
        "id": "Xveu3wb6IwoB",
        "outputId": "7c80d995-5e4f-417d-fdb4-40ff0f6e150b"
      },
      "execution_count": null,
      "outputs": [
        {
          "output_type": "stream",
          "name": "stdout",
          "text": [
            "['main.ipynb', 'utils.py', 'models.py', 'README.md', 'LICENSE', 'data', '3D-CGAN-master', 'figures']\n"
          ]
        }
      ]
    },
    {
      "cell_type": "code",
      "source": [
        "import sys\n",
        "sys.path.insert(0, '3D-CGAN-master.zip')  # Assuming utils.py is in the current directory or a subdirectory\n",
        "import utils  # Import the utils module\n"
      ],
      "metadata": {
        "id": "T6W5m6r7q7Go"
      },
      "execution_count": null,
      "outputs": []
    },
    {
      "cell_type": "code",
      "source": [
        "import scipy.io\n",
        "from os import listdir\n",
        "from os.path import isfile, join\n",
        "import numpy as np\n",
        "import matplotlib.pyplot as plt\n",
        "from mpl_toolkits.mplot3d import Axes3D\n",
        "import os\n",
        "import sys\n",
        "import shutil\n",
        "\n",
        "# get a single 3D model from .mat file\n",
        "def get_model(file_path):\n",
        "\n",
        "    mat = scipy.io.loadmat( file_path )\n",
        "    model_array = mat['instance']\n",
        "    model_array = np.pad(model_array,1,'constant',constant_values=0)\n",
        "    return model_array\n",
        "\n",
        "# load all models for a single rotation\n",
        "def load_all(folder_name, contains = None):\n",
        "\n",
        "    file_names = [f for f in listdir(folder_name) if isfile(join(folder_name, f))]\n",
        "\n",
        "    if (contains != None):\n",
        "        file_names = [s for s in file_names if contains in s]\n",
        "\n",
        "    models = []\n",
        "\n",
        "    for m in range(len(file_names)):\n",
        "        file_path = (folder_name + '/' + file_names[m])\n",
        "        models.append(get_model(file_path))\n",
        "    return np.array(models)\n",
        "\n",
        "# visualize 3D voxel models, input is a list of a batch of 3D arrays to visualize all conditions together\n",
        "def visualize_all(models , save = False, name = \"output\", fig_count = 4, fig_size = 5):\n",
        "\n",
        "    fig = plt.figure()\n",
        "\n",
        "    m = 0\n",
        "    for model in models:\n",
        "\n",
        "        if(model.dtype == bool):\n",
        "            voxel = model\n",
        "        else:\n",
        "            voxel = np.squeeze(model) > 0.5\n",
        "\n",
        "        ax = []\n",
        "        colors = []\n",
        "\n",
        "        for i in range(fig_count):\n",
        "            ax.append( fig.add_subplot(len(models), fig_count, (m*fig_count) + i+1, projection='3d') )\n",
        "\n",
        "        for i in range(fig_count):\n",
        "            ax[i].voxels(voxel[i], facecolors='red', edgecolor='k', shade=False)\n",
        "            ax[i].grid(False)\n",
        "            ax[i].axis('off')\n",
        "\n",
        "        m += 1\n",
        "\n",
        "    plt.tight_layout()\n",
        "\n",
        "    fig.set_figheight(fig_size)\n",
        "    fig.set_figwidth(fig_size*fig_count)\n",
        "    #plt.show()\n",
        "    if(save):\n",
        "        fig.savefig(name +'.png')\n",
        "        plt.close(fig)\n",
        "        fig.clear()\n",
        "    else :\n",
        "        plt.show()\n",
        "\n",
        "# plot loss graph\n",
        "def plot_graph(lists, name):\n",
        "    for l in lists:\n",
        "        plt.plot(l)\n",
        "\n",
        "    plt.savefig(name +'.png')\n",
        "    plt.close()\n",
        "\n",
        "# create the log folder\n",
        "def clear_folder(path):\n",
        "    if os.path.exists(path):\n",
        "        shutil.rmtree(path)\n",
        "    os.mkdir(path)"
      ],
      "metadata": {
        "id": "yai4YDcV4gcK"
      },
      "execution_count": null,
      "outputs": []
    },
    {
      "cell_type": "code",
      "source": [
        "def load_all(folder_name, contains=None):\n",
        "    # Function definition\n",
        "    pass\n"
      ],
      "metadata": {
        "id": "17FDjy7vKZ1l"
      },
      "execution_count": null,
      "outputs": []
    },
    {
      "cell_type": "code",
      "source": [
        "# Check if 'load_all' is defined in the current namespace\n",
        "print(\"load_all\" in globals())\n"
      ],
      "metadata": {
        "colab": {
          "base_uri": "https://localhost:8080/"
        },
        "id": "GhW1YpllHq2k",
        "outputId": "f3115970-5272-4677-8336-e4729e9f12ae"
      },
      "execution_count": null,
      "outputs": [
        {
          "output_type": "stream",
          "name": "stdout",
          "text": [
            "True\n"
          ]
        }
      ]
    },
    {
      "cell_type": "code",
      "source": [
        "import sys\n",
        "sys.path.insert(0, r'C:\\Users\\praja\\Downloads\\3D-CGAN-master.zip\\3D-CGAN-master')\n",
        "import utils"
      ],
      "metadata": {
        "id": "AlJbkjVjAKzl"
      },
      "execution_count": null,
      "outputs": []
    },
    {
      "cell_type": "code",
      "source": [
        "!pip install your_models_package_name  # Replace with the actual package name"
      ],
      "metadata": {
        "colab": {
          "base_uri": "https://localhost:8080/"
        },
        "id": "JdNdDcPsrCJK",
        "outputId": "b5e6e5bd-7fdf-40c4-919b-09f60c088ba0"
      },
      "execution_count": null,
      "outputs": [
        {
          "output_type": "stream",
          "name": "stdout",
          "text": [
            "\u001b[31mERROR: Could not find a version that satisfies the requirement your_models_package_name (from versions: none)\u001b[0m\u001b[31m\n",
            "\u001b[0m\u001b[31mERROR: No matching distribution found for your_models_package_name\u001b[0m\u001b[31m\n",
            "\u001b[0m"
          ]
        }
      ]
    },
    {
      "cell_type": "code",
      "source": [
        "import torch\n",
        "import torch.nn as nn\n",
        "import torch.nn.functional as F\n",
        "\n",
        "class Generator(nn.Module):\n",
        "    def __init__ (self, noise_size=201, cube_resolution=32):\n",
        "        super(Generator, self).__init__()\n",
        "\n",
        "        self.noise_size = noise_size\n",
        "        self.cube_resolution = cube_resolution\n",
        "\n",
        "        self.gen_conv1 = torch.nn.ConvTranspose3d(self.noise_size, 256, kernel_size=[4,4,4], stride=[2,2,2], padding=1)\n",
        "        self.gen_conv2 = torch.nn.ConvTranspose3d(256, 128, kernel_size=[4,4,4], stride=[2,2,2], padding=1)\n",
        "        self.gen_conv3 = torch.nn.ConvTranspose3d(128, 64, kernel_size=[4,4,4], stride=[2,2,2], padding=1)\n",
        "        self.gen_conv4 = torch.nn.ConvTranspose3d(64, 32, kernel_size=[4,4,4], stride=[2,2,2], padding=1)\n",
        "        self.gen_conv5 = torch.nn.ConvTranspose3d(32, 1, kernel_size=[4,4,4], stride=[2,2,2], padding=1)\n",
        "\n",
        "        self.gen_bn1 = nn.BatchNorm3d(256)\n",
        "        self.gen_bn2 = nn.BatchNorm3d(128)\n",
        "        self.gen_bn3 = nn.BatchNorm3d(64)\n",
        "        self.gen_bn4 = nn.BatchNorm3d(32)\n",
        "\n",
        "\n",
        "    def forward(self, x, condition):\n",
        "\n",
        "        condition_tensor = condition * torch.ones([x.shape[0],1], device=x.device)\n",
        "        x = torch.cat([x, condition_tensor], dim=1)\n",
        "        x = x.view(x.shape[0],self.noise_size,1,1,1)\n",
        "\n",
        "        x = F.relu(self.gen_bn1(self.gen_conv1(x)))\n",
        "        x = F.relu(self.gen_bn2(self.gen_conv2(x)))\n",
        "        x = F.relu(self.gen_bn3(self.gen_conv3(x)))\n",
        "        x = F.relu(self.gen_bn4(self.gen_conv4(x)))\n",
        "        x = self.gen_conv5(x)\n",
        "        x = torch.sigmoid(x)\n",
        "\n",
        "        return x.squeeze()\n",
        "\n",
        "class Discriminator(nn.Module):\n",
        "    def __init__ (self, cube_resolution=32):\n",
        "        super(Discriminator, self).__init__()\n",
        "\n",
        "        self.cube_resolution = cube_resolution\n",
        "\n",
        "        self.disc_conv1 = torch.nn.Conv3d(2, 32, kernel_size=[4,4,4], stride=[2,2,2], padding=1)\n",
        "        self.disc_conv2 = torch.nn.Conv3d(32, 64, kernel_size=[4,4,4], stride=[2,2,2], padding=1)\n",
        "        self.disc_conv3 = torch.nn.Conv3d(64, 128, kernel_size=[4,4,4], stride=[2,2,2], padding=1)\n",
        "        self.disc_conv4 = torch.nn.Conv3d(128, 256, kernel_size=[4,4,4], stride=[2,2,2], padding=1)\n",
        "        self.disc_conv5 = torch.nn.Conv3d(256, 1, kernel_size=[4,4,4], stride=[2,2,2], padding=1)\n",
        "\n",
        "        self.disc_bn1 = nn.BatchNorm3d(32)\n",
        "        self.disc_bn2 = nn.BatchNorm3d(64)\n",
        "        self.disc_bn3 = nn.BatchNorm3d(128)\n",
        "        self.disc_bn4 = nn.BatchNorm3d(256)\n",
        "\n",
        "        self.LRelu = nn.LeakyReLU(0.2, True)\n",
        "\n",
        "    def forward(self, x, condition):\n",
        "\n",
        "        x = x.unsqueeze(1)\n",
        "        condition_tensor =  condition * torch.ones_like(x, device=x.device)\n",
        "        x = torch.cat([x, condition_tensor], dim=1)\n",
        "\n",
        "        x = self.LRelu(self.disc_bn1(self.disc_conv1(x)))\n",
        "        x = self.LRelu(self.disc_bn2(self.disc_conv2(x)))\n",
        "        x = self.LRelu(self.disc_bn3(self.disc_conv3(x)))\n",
        "        x = self.LRelu(self.disc_bn4(self.disc_conv4(x)))\n",
        "        x = self.disc_conv5(x)\n",
        "        x = torch.sigmoid(x)\n",
        "\n",
        "        return x.squeeze()"
      ],
      "metadata": {
        "id": "v224lL1C4uh8"
      },
      "execution_count": null,
      "outputs": []
    },
    {
      "cell_type": "code",
      "source": [
        "import torch\n",
        "import numpy as np\n",
        "import time\n",
        "import torch.optim as optim\n",
        "from tqdm import tqdm, trange\n",
        "import utils\n"
      ],
      "metadata": {
        "id": "rp596jXTqWIR"
      },
      "execution_count": null,
      "outputs": []
    },
    {
      "cell_type": "code",
      "source": [],
      "metadata": {
        "id": "AH54xVR54eUC"
      },
      "execution_count": null,
      "outputs": []
    },
    {
      "cell_type": "code",
      "source": [
        "cube_len = 32\n",
        "epoch_count = 400\n",
        "batch_size = 128\n",
        "noise_size = 200\n",
        "d_lr = 0.00005 # discriminator learning rate\n",
        "g_lr = 0.0025 # generator learning rate\n",
        "log_folder = \"logs/\"\n",
        "\n",
        "condition_count = 2"
      ],
      "metadata": {
        "id": "g22_W33VrTsD"
      },
      "execution_count": null,
      "outputs": []
    },
    {
      "cell_type": "code",
      "source": [
        "from torch.utils.data import TensorDataset, DataLoader\n",
        "\n",
        "all_models1 = utils.load_all(\"data/chair_all\", contains = '_1.mat') # names ends with a rotation number for 12 rotations, 30 degrees each\n",
        "all_models7 = utils.load_all(\"data/chair_all\", contains = '_7.mat') # 1 and 7 are 0 and 180 degrees respectively\n",
        "\n",
        "train_set1 = torch.from_numpy(all_models1).float()\n",
        "train_set7 = torch.from_numpy(all_models7).float()\n",
        "\n",
        "train_set_all = TensorDataset(train_set1, train_set7)\n",
        "train_loader = DataLoader(dataset=train_set_all, batch_size=batch_size, shuffle=True, pin_memory=True)"
      ],
      "metadata": {
        "colab": {
          "base_uri": "https://localhost:8080/",
          "height": 245
        },
        "id": "T7nnj6mxrUlV",
        "outputId": "3fdc6d5a-3a0c-418c-fe07-96273f66883f"
      },
      "execution_count": null,
      "outputs": [
        {
          "output_type": "error",
          "ename": "AttributeError",
          "evalue": "module 'utils' has no attribute 'load_all'",
          "traceback": [
            "\u001b[0;31m---------------------------------------------------------------------------\u001b[0m",
            "\u001b[0;31mAttributeError\u001b[0m                            Traceback (most recent call last)",
            "\u001b[0;32m<ipython-input-64-8316bc255343>\u001b[0m in \u001b[0;36m<cell line: 3>\u001b[0;34m()\u001b[0m\n\u001b[1;32m      1\u001b[0m \u001b[0;32mfrom\u001b[0m \u001b[0mtorch\u001b[0m\u001b[0;34m.\u001b[0m\u001b[0mutils\u001b[0m\u001b[0;34m.\u001b[0m\u001b[0mdata\u001b[0m \u001b[0;32mimport\u001b[0m \u001b[0mTensorDataset\u001b[0m\u001b[0;34m,\u001b[0m \u001b[0mDataLoader\u001b[0m\u001b[0;34m\u001b[0m\u001b[0;34m\u001b[0m\u001b[0m\n\u001b[1;32m      2\u001b[0m \u001b[0;34m\u001b[0m\u001b[0m\n\u001b[0;32m----> 3\u001b[0;31m \u001b[0mall_models1\u001b[0m \u001b[0;34m=\u001b[0m \u001b[0mutils\u001b[0m\u001b[0;34m.\u001b[0m\u001b[0mload_all\u001b[0m\u001b[0;34m(\u001b[0m\u001b[0;34m\"data/chair_all\"\u001b[0m\u001b[0;34m,\u001b[0m \u001b[0mcontains\u001b[0m \u001b[0;34m=\u001b[0m \u001b[0;34m'_1.mat'\u001b[0m\u001b[0;34m)\u001b[0m \u001b[0;31m# names ends with a rotation number for 12 rotations, 30 degrees each\u001b[0m\u001b[0;34m\u001b[0m\u001b[0;34m\u001b[0m\u001b[0m\n\u001b[0m\u001b[1;32m      4\u001b[0m \u001b[0mall_models7\u001b[0m \u001b[0;34m=\u001b[0m \u001b[0mutils\u001b[0m\u001b[0;34m.\u001b[0m\u001b[0mload_all\u001b[0m\u001b[0;34m(\u001b[0m\u001b[0;34m\"data/chair_all\"\u001b[0m\u001b[0;34m,\u001b[0m \u001b[0mcontains\u001b[0m \u001b[0;34m=\u001b[0m \u001b[0;34m'_7.mat'\u001b[0m\u001b[0;34m)\u001b[0m \u001b[0;31m# 1 and 7 are 0 and 180 degrees respectively\u001b[0m\u001b[0;34m\u001b[0m\u001b[0;34m\u001b[0m\u001b[0m\n\u001b[1;32m      5\u001b[0m \u001b[0;34m\u001b[0m\u001b[0m\n",
            "\u001b[0;31mAttributeError\u001b[0m: module 'utils' has no attribute 'load_all'"
          ]
        }
      ]
    },
    {
      "cell_type": "code",
      "source": [],
      "metadata": {
        "id": "1TeEY9_pMRzF"
      },
      "execution_count": null,
      "outputs": []
    },
    {
      "cell_type": "code",
      "source": [
        "import utils\n",
        "print(dir(utils))\n"
      ],
      "metadata": {
        "colab": {
          "base_uri": "https://localhost:8080/"
        },
        "id": "YG-UO_k7_k4n",
        "outputId": "39ae970e-1582-4fdd-d86a-3b0316c05dc8"
      },
      "execution_count": null,
      "outputs": [
        {
          "output_type": "stream",
          "name": "stdout",
          "text": [
            "['__builtins__', '__cached__', '__doc__', '__file__', '__loader__', '__name__', '__package__', '__path__', '__spec__']\n"
          ]
        }
      ]
    },
    {
      "cell_type": "code",
      "source": [
        "import utils\n",
        "print(utils.__file__)\n"
      ],
      "metadata": {
        "colab": {
          "base_uri": "https://localhost:8080/"
        },
        "id": "pdPZdFlj_8WB",
        "outputId": "e823b05b-29e8-4c75-eb0a-5daa36489f4e"
      },
      "execution_count": null,
      "outputs": [
        {
          "output_type": "stream",
          "name": "stdout",
          "text": [
            "/usr/local/lib/python3.10/dist-packages/utils/__init__.py\n"
          ]
        }
      ]
    }
  ]
}